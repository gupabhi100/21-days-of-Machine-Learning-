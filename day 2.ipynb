{
 "cells": [
  {
   "cell_type": "markdown",
   "metadata": {},
   "source": [
    "# Day 2 ml"
   ]
  },
  {
   "cell_type": "code",
   "execution_count": 1,
   "metadata": {},
   "outputs": [],
   "source": [
    "import numpy as np\n"
   ]
  },
  {
   "cell_type": "markdown",
   "metadata": {},
   "source": [
    "### Create vector "
   ]
  },
  {
   "cell_type": "code",
   "execution_count": 2,
   "metadata": {},
   "outputs": [
    {
     "name": "stdout",
     "output_type": "stream",
     "text": [
      "[10 15 20]\n",
      "[[10]\n",
      " [17]\n",
      " [20]]\n"
     ]
    }
   ],
   "source": [
    "#load library\n",
    "import numpy as np\n",
    "\n",
    "#create a row vector \n",
    "row_vector=np.array([10,15,20])\n",
    "print(row_vector)\n",
    "\n",
    "##create a column vector \n",
    "col_vector=np.array([[10],[17],[20]])\n",
    "print(col_vector)\n",
    "\n",
    "\n"
   ]
  },
  {
   "cell_type": "markdown",
   "metadata": {},
   "source": [
    "####  Create a matrix"
   ]
  },
  {
   "cell_type": "code",
   "execution_count": 3,
   "metadata": {},
   "outputs": [
    {
     "name": "stdout",
     "output_type": "stream",
     "text": [
      "the matrix is  [[10 20 30]\n",
      " [40 50 60]]\n"
     ]
    }
   ],
   "source": [
    "#create  a matrix \n",
    "matrix=np.array([[10,20,30],[40,50,60]])\n",
    "print(\"the matrix is \",matrix)"
   ]
  },
  {
   "cell_type": "markdown",
   "metadata": {},
   "source": [
    "# Accessing Elements "
   ]
  },
  {
   "cell_type": "code",
   "execution_count": 5,
   "metadata": {},
   "outputs": [
    {
     "name": "stdout",
     "output_type": "stream",
     "text": [
      "[  10   15   20   45   34   23 1234]\n",
      "the matrix is  [[10 20 30]\n",
      " [40 50 60]\n",
      " [34 45 67]]\n",
      "row_vector[2] is  15\n",
      "the 3rd  row and 3rd column is [2][2] 67\n",
      "row_vector[all ] is  [  10   15   20   45   34   23 1234]\n",
      "row_vector[last element is -1  ] is  1234\n",
      "[[10 20 30]\n",
      " [40 50 60]]\n"
     ]
    }
   ],
   "source": [
    "#create a row vector \n",
    "row_vector=np.array([10,15,20,45,34,23,1234])\n",
    "print(row_vector)\n",
    "\n",
    "#create  a matrix \n",
    "matrix = np.array([[10,20,30],[40,50,60],[34,45,67]])\n",
    "print(\"the matrix is \",matrix)\n",
    "\n",
    "#select the 2nd elememnt of vector \n",
    "print(\"row_vector[2] is \",row_vector[1])\n",
    "\n",
    "#  SELECT THE 3RD ROW  AND 3RD COLUMN OF  THE MATRIX \n",
    "print(\"the 3rd  row and 3rd column is [2][2]\",matrix[2][2])\n",
    "\n",
    "#select all the elements of the vector\n",
    "print(\"row_vector[all ] is \",row_vector[:])\n",
    "\n",
    "#select the last elemnt of the vector\n",
    "print(\"row_vector[last element is -1  ] is \",row_vector[-1])\n",
    "\n",
    "#Select first 2 rows and all the columns of  matrix \n",
    "print(matrix[:2 ,:])"
   ]
  },
  {
   "cell_type": "markdown",
   "metadata": {},
   "source": [
    "### Matrix "
   ]
  },
  {
   "cell_type": "code",
   "execution_count": 10,
   "metadata": {},
   "outputs": [
    {
     "name": "stdout",
     "output_type": "stream",
     "text": [
      "(3, 3)\n",
      "9\n",
      "2\n"
     ]
    }
   ],
   "source": [
    "matrix = np.array([[10,20,30],[40,50,60],[34,45,67]])\n",
    "print(matrix.shape)\n",
    "print(matrix.size)\n",
    "print(matrix.ndim)# tell the no. of dimwension in the matrix "
   ]
  },
  {
   "cell_type": "markdown",
   "metadata": {},
   "source": [
    "### Min and Max"
   ]
  },
  {
   "cell_type": "code",
   "execution_count": 20,
   "metadata": {},
   "outputs": [
    {
     "name": "stdout",
     "output_type": "stream",
     "text": [
      "[[10 20 30]\n",
      " [40 50 60]\n",
      " [70 80 90]]\n",
      "90\n",
      "10\n",
      "[70 80 90]\n",
      "[30 60 90]\n",
      "50.0\n"
     ]
    }
   ],
   "source": [
    "#Create a Matrix\n",
    "\n",
    "matrix = np. array([[10,20,30],[40, 50, 60], [70, 80, 90]])\n",
    "print(matrix)\n",
    "\n",
    "#Return the element \n",
    "print(np.max(matrix))\n",
    "\n",
    "##Return the Min element\n",
    "print(np.min(matrix))\n",
    "\n",
    "#To find the max element Each coLumn \n",
    "print(np.max(matrix, axis=0))\n",
    "\n",
    "#To find the max element in each row\n",
    "print(np.max(matrix, axis= 1))\n",
    "\n",
    "## caluclating the avergae of a matrix \n",
    "print(np.mean(matrix))"
   ]
  },
  {
   "cell_type": "markdown",
   "metadata": {},
   "source": [
    "### Reshape \n"
   ]
  },
  {
   "cell_type": "code",
   "execution_count": 26,
   "metadata": {},
   "outputs": [
    {
     "name": "stdout",
     "output_type": "stream",
     "text": [
      "[[10 20 30]\n",
      " [40 50 60]\n",
      " [70 80 90]]\n",
      "[[10]\n",
      " [20]\n",
      " [30]\n",
      " [40]\n",
      " [50]\n",
      " [60]\n",
      " [70]\n",
      " [80]\n",
      " [90]]\n",
      "[[10 20 30 40 50 60 70 80 90]]\n",
      "[10 20 30 40 50 60 70 80 90]\n",
      "[10 20 30 40 50 60 70 80 90]\n"
     ]
    }
   ],
   "source": [
    "#Create a Matrix\n",
    "\n",
    "matrix = np. array([[10,20,30],[40, 50, 60], [70, 80, 90]])\n",
    "print(matrix)\n",
    "#reshape \n",
    "print(matrix.reshape(9,1))\n",
    "\n",
    "## -1 says as many coln needed for 1 row \n",
    "print(matrix.reshape(1,-1))\n",
    "\n",
    "## it provides 1d array of that length \n",
    "print(matrix.reshape(9))\n",
    "\n",
    "print(matrix.flatten())"
   ]
  },
  {
   "cell_type": "markdown",
   "metadata": {},
   "source": [
    "### Transpose "
   ]
  },
  {
   "cell_type": "code",
   "execution_count": 27,
   "metadata": {},
   "outputs": [
    {
     "name": "stdout",
     "output_type": "stream",
     "text": [
      "[[10 20 30]\n",
      " [40 50 60]\n",
      " [70 80 90]]\n",
      "[[10 40 70]\n",
      " [20 50 80]\n",
      " [30 60 90]]\n"
     ]
    }
   ],
   "source": [
    "matrix = np. array([[10,20,30],[40, 50, 60], [70, 80, 90]])\n",
    "print(matrix)\n",
    "## Transpose of a matrix \n",
    "print(matrix.T)"
   ]
  },
  {
   "cell_type": "markdown",
   "metadata": {},
   "source": [
    "### DIagonal"
   ]
  },
  {
   "cell_type": "code",
   "execution_count": 29,
   "metadata": {},
   "outputs": [
    {
     "name": "stdout",
     "output_type": "stream",
     "text": [
      "[[10 20 30]\n",
      " [40 50 60]\n",
      " [70 80 90]]\n",
      "[10 50 90]\n"
     ]
    }
   ],
   "source": [
    "matrix = np. array([[10,20,30],[40, 50, 60], [70, 80, 90]])\n",
    "print(matrix)\n",
    "## print the principal diagonal \n",
    "print(matrix.diagonal())"
   ]
  },
  {
   "cell_type": "markdown",
   "metadata": {},
   "source": [
    "### Dot product"
   ]
  },
  {
   "cell_type": "code",
   "execution_count": 31,
   "metadata": {},
   "outputs": [
    {
     "name": "stdout",
     "output_type": "stream",
     "text": [
      "3200\n"
     ]
    }
   ],
   "source": [
    "v1=np.array([10,20,30])\n",
    "v2=np.array([40,50,60])\n",
    "print(np.dot(v1,v2))"
   ]
  },
  {
   "cell_type": "markdown",
   "metadata": {},
   "source": [
    "### Addition , Subtraction and Multilication of a matrix "
   ]
  },
  {
   "cell_type": "code",
   "execution_count": 36,
   "metadata": {},
   "outputs": [
    {
     "name": "stdout",
     "output_type": "stream",
     "text": [
      "[[ 22  42  52]\n",
      " [ 63  83 104]\n",
      " [127 133 130]]\n",
      "[[-2 -2  8]\n",
      " [-3 -3 -4]\n",
      " [ 3 -1  4]]\n",
      "[[ 120  440  660]\n",
      " [ 990 1720 2700]\n",
      " [4030 4422 4221]]\n",
      "[[2640 3090 3190]\n",
      " [4780 5730 5970]\n",
      " [7112 8757 9215]]\n"
     ]
    }
   ],
   "source": [
    "m1=np.array([[10,20,30],[30,40,50],[65,66,67]])\n",
    "m2=np.array([[12,22,22],[33,43,54],[62,67,63]])\n",
    "print(np.add(m1,m2))\n",
    "print(np.subtract(m1,m2))\n",
    "## multiplication coln wise \n",
    "print(m1*m2)\n",
    "## multiplicatio row column wise \n",
    "print(np.matmul(m1,m2))\n"
   ]
  },
  {
   "cell_type": "markdown",
   "metadata": {},
   "source": [
    "### Creating matrix of zeros and ones "
   ]
  },
  {
   "cell_type": "code",
   "execution_count": 40,
   "metadata": {},
   "outputs": [
    {
     "name": "stdout",
     "output_type": "stream",
     "text": [
      "[[0. 0. 0. 0.]\n",
      " [0. 0. 0. 0.]\n",
      " [0. 0. 0. 0.]\n",
      " [0. 0. 0. 0.]]\n",
      "[[1. 1. 1.]\n",
      " [1. 1. 1.]\n",
      " [1. 1. 1.]]\n"
     ]
    }
   ],
   "source": [
    "zeros =np.zeros([4,4])\n",
    "print(zeros)\n",
    "ones =np.ones([3,3])\n",
    "print(ones)"
   ]
  },
  {
   "cell_type": "markdown",
   "metadata": {},
   "source": [
    "### Generating random values \n"
   ]
  },
  {
   "cell_type": "code",
   "execution_count": 41,
   "metadata": {},
   "outputs": [
    {
     "name": "stdout",
     "output_type": "stream",
     "text": [
      "[0 3 8]\n"
     ]
    }
   ],
   "source": [
    "print(np.random.randint(0,11,3))"
   ]
  },
  {
   "cell_type": "code",
   "execution_count": 42,
   "metadata": {},
   "outputs": [
    {
     "name": "stdout",
     "output_type": "stream",
     "text": [
      "[-1.5438698  -1.3230708   3.19259744  1.91188285  1.81132899  2.47728041]\n"
     ]
    }
   ],
   "source": [
    "print(np.random.normal(1.0,2.0,6))"
   ]
  },
  {
   "cell_type": "code",
   "execution_count": null,
   "metadata": {},
   "outputs": [],
   "source": []
  }
 ],
 "metadata": {
  "kernelspec": {
   "display_name": "Python 3",
   "language": "python",
   "name": "python3"
  },
  "language_info": {
   "codemirror_mode": {
    "name": "ipython",
    "version": 3
   },
   "file_extension": ".py",
   "mimetype": "text/x-python",
   "name": "python",
   "nbconvert_exporter": "python",
   "pygments_lexer": "ipython3",
   "version": "3.8.3"
  }
 },
 "nbformat": 4,
 "nbformat_minor": 4
}
